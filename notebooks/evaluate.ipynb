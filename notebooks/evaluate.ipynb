{
 "cells": [
  {
   "cell_type": "code",
   "execution_count": 30,
   "metadata": {},
   "outputs": [],
   "source": [
    "import pandas as pd\n",
    "import numpy as np\n",
    "from datasets import Dataset, ClassLabel, Value, Features\n",
    "from datasets import load_dataset, concatenate_datasets\n",
    "from transformers import AutoTokenizer, AutoModelForSequenceClassification\n",
    "import torch\n",
    "import torch.nn as nn\n",
    "from tqdm import tqdm\n",
    "from torch.utils.data import DataLoader\n",
    "from time import time\n",
    "import matplotlib.pyplot as plt"
   ]
  },
  {
   "cell_type": "code",
   "execution_count": 2,
   "metadata": {},
   "outputs": [],
   "source": [
    "from sys import path\n",
    "path.append('../')  \n",
    "from scripts.Pipeline import Pipeline"
   ]
  },
  {
   "cell_type": "code",
   "execution_count": 3,
   "metadata": {},
   "outputs": [
    {
     "name": "stderr",
     "output_type": "stream",
     "text": [
      "No config specified, defaulting to: hebrew_sentiment/token\n",
      "Found cached dataset hebrew_sentiment (C:/Users/Administrator/.cache/huggingface/datasets/hebrew_sentiment/token/1.0.0/2ea2ba30503e863156a06ad2d4011a75b45556d1d557c2247f6194828849f5f9)\n"
     ]
    },
    {
     "data": {
      "application/vnd.jupyter.widget-view+json": {
       "model_id": "8defcdd8baa34997a39e4a749342ce1a",
       "version_major": 2,
       "version_minor": 0
      },
      "text/plain": [
       "  0%|          | 0/2 [00:00<?, ?it/s]"
      ]
     },
     "metadata": {},
     "output_type": "display_data"
    },
    {
     "name": "stderr",
     "output_type": "stream",
     "text": [
      "Loading cached shuffled indices for dataset at C:\\Users\\Administrator\\.cache\\huggingface\\datasets\\hebrew_sentiment\\token\\1.0.0\\2ea2ba30503e863156a06ad2d4011a75b45556d1d557c2247f6194828849f5f9\\cache-7fafd9941388ff1c.arrow\n"
     ]
    }
   ],
   "source": [
    "Pipeline.seed_everything(42)\n",
    "\n",
    "model_name = 'dicta-il/dictabert'\n",
    "\n",
    "dataset = load_dataset('hebrew_sentiment')\n",
    "\n",
    "train_size = 150\n",
    "train = dataset['train'].shuffle(seed=42).select(range(train_size))\n",
    "test = dataset['test']\n",
    "\n"
   ]
  },
  {
   "cell_type": "code",
   "execution_count": 18,
   "metadata": {},
   "outputs": [
    {
     "data": {
      "text/html": [
       "<div>\n",
       "<style scoped>\n",
       "    .dataframe tbody tr th:only-of-type {\n",
       "        vertical-align: middle;\n",
       "    }\n",
       "\n",
       "    .dataframe tbody tr th {\n",
       "        vertical-align: top;\n",
       "    }\n",
       "\n",
       "    .dataframe thead th {\n",
       "        text-align: right;\n",
       "    }\n",
       "</style>\n",
       "<table border=\"1\" class=\"dataframe\">\n",
       "  <thead>\n",
       "    <tr style=\"text-align: right;\">\n",
       "      <th></th>\n",
       "      <th>text</th>\n",
       "      <th>label</th>\n",
       "    </tr>\n",
       "  </thead>\n",
       "  <tbody>\n",
       "    <tr>\n",
       "      <th>0</th>\n",
       "      <td>גאה בנשיאותו של ריבלין! 🇮🇱 #נשיאות #ישראל</td>\n",
       "      <td>0</td>\n",
       "    </tr>\n",
       "    <tr>\n",
       "      <th>1</th>\n",
       "      <td>שיהיה לנו נשיא חכם ומשמעותי למדינת ישראל #כבוד</td>\n",
       "      <td>0</td>\n",
       "    </tr>\n",
       "    <tr>\n",
       "      <th>2</th>\n",
       "      <td>החלומות מתגשמים עם נשיא כמו ריבלין 🌟 #התמיכה_ה...</td>\n",
       "      <td>0</td>\n",
       "    </tr>\n",
       "    <tr>\n",
       "      <th>3</th>\n",
       "      <td>השנה הולך להיות מרגשת עם הנשיא החדש! #התקווה</td>\n",
       "      <td>0</td>\n",
       "    </tr>\n",
       "    <tr>\n",
       "      <th>4</th>\n",
       "      <td>אני מאוד משוחרר שריבלין לא יהיה יותר נשיא #שחרור</td>\n",
       "      <td>1</td>\n",
       "    </tr>\n",
       "  </tbody>\n",
       "</table>\n",
       "</div>"
      ],
      "text/plain": [
       "                                                text  label\n",
       "0          גאה בנשיאותו של ריבלין! 🇮🇱 #נשיאות #ישראל      0\n",
       "1     שיהיה לנו נשיא חכם ומשמעותי למדינת ישראל #כבוד      0\n",
       "2  החלומות מתגשמים עם נשיא כמו ריבלין 🌟 #התמיכה_ה...      0\n",
       "3       השנה הולך להיות מרגשת עם הנשיא החדש! #התקווה      0\n",
       "4   אני מאוד משוחרר שריבלין לא יהיה יותר נשיא #שחרור      1"
      ]
     },
     "execution_count": 18,
     "metadata": {},
     "output_type": "execute_result"
    }
   ],
   "source": [
    "# load generated_tweets\n",
    "generated_tweets = pd.read_csv('../data/generated_tweets.csv')\n",
    "\n",
    "generated_tweets.head()\n",
    "\n"
   ]
  },
  {
   "cell_type": "code",
   "execution_count": 31,
   "metadata": {},
   "outputs": [
    {
     "name": "stderr",
     "output_type": "stream",
     "text": [
      "c:\\Users\\Administrator\\miniconda3\\envs\\nnenv\\lib\\site-packages\\datasets\\table.py:1381: FutureWarning: promote has been superseded by mode='default'.\n",
      "  block_group = [InMemoryTable(cls._concat_blocks(list(block_group), axis=axis))]\n",
      "c:\\Users\\Administrator\\miniconda3\\envs\\nnenv\\lib\\site-packages\\datasets\\table.py:1407: FutureWarning: promote has been superseded by mode='default'.\n",
      "  table = cls._concat_blocks(blocks, axis=0)\n"
     ]
    }
   ],
   "source": [
    "# Define the features of your generated dataset to include the ClassLabel type for the 'label' column\n",
    "features = Features({\n",
    "    'text': Value('string'),\n",
    "    # Adjust the 'names' parameter based on the classes in your original dataset\n",
    "    'label': ClassLabel(names=['pos', 'neg', 'off-topic']),\n",
    "})\n",
    "\n",
    "# Convert the pandas DataFrame to a Hugging Face Dataset with the defined features\n",
    "generated_tweets_dataset = Dataset.from_pandas(generated_tweets, features=features)\n",
    "\n",
    "# Now you can concatenate your datasets\n",
    "extended_train = concatenate_datasets([train, generated_tweets_dataset.shuffle(seed=42)])"
   ]
  },
  {
   "cell_type": "code",
   "execution_count": null,
   "metadata": {},
   "outputs": [],
   "source": [
    "accuracies = []\n",
    "times = []\n",
    "training_sizes = []\n",
    "\n",
    "# train the model with a growning number of generated tweets\n",
    "for i in range(1, 11):\n",
    "    print(f'Iteration {i} of 10')\n",
    "    print(f'Training size: {150 + i * 300}')\n",
    "    extended_train = concatenate_datasets([train, generated_tweets_dataset.shuffle(seed=42).select(range(i * 300))])\n",
    "    model_name = 'dicta-il/dictabert'\n",
    "    pipeline = Pipeline(model_name)\n",
    "    accuracy, model, time_elapsed = pipeline.run(extended_train, test)\n",
    "    print(f'Accuracy: {accuracy}')\n",
    "    print(f'Time elapsed: {time_elapsed}')\n",
    "    accuracies.append(accuracy)\n",
    "    times.append(time_elapsed)\n",
    "    training_sizes.append(150 + i * 300)\n",
    "    print('---')\n",
    "    method = f'generated_{i * 300}'\n",
    "    model_path = f'/models/{method}.pt'\n",
    "    pipeline.save_model(model_path) \n",
    "\n",
    "# save results to csv\n",
    "results = pd.DataFrame({'accuracy': accuracies, 'time': times, 'training_size': training_sizes})\n",
    "results.to_csv('../experiments/generated_results.csv', index=False)\n",
    "\n"
   ]
  },
  {
   "cell_type": "code",
   "execution_count": null,
   "metadata": {},
   "outputs": [],
   "source": [
    "# plot the results\n",
    "plt.plot(training_sizes, accuracies)\n",
    "plt.xlabel('Training size')\n",
    "plt.ylabel('Accuracy')\n",
    "plt.title('Accuracy as a function of training size')\n",
    "plt.show()\n",
    "\n",
    "# plot the time acccuracy trade off\n",
    "plt.plot(times, accuracies)\n",
    "plt.xlabel('Time elapsed')\n",
    "plt.ylabel('Accuracy')\n",
    "plt.title('Accuracy as a function of time elapsed')\n",
    "plt.show()"
   ]
  },
  {
   "cell_type": "code",
   "execution_count": null,
   "metadata": {},
   "outputs": [],
   "source": []
  }
 ],
 "metadata": {
  "kernelspec": {
   "display_name": "nnenv",
   "language": "python",
   "name": "python3"
  },
  "language_info": {
   "codemirror_mode": {
    "name": "ipython",
    "version": 3
   },
   "file_extension": ".py",
   "mimetype": "text/x-python",
   "name": "python",
   "nbconvert_exporter": "python",
   "pygments_lexer": "ipython3",
   "version": "3.10.13"
  }
 },
 "nbformat": 4,
 "nbformat_minor": 2
}
