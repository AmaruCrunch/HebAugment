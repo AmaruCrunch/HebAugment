{
 "cells": [
  {
   "cell_type": "code",
   "execution_count": 1,
   "metadata": {},
   "outputs": [],
   "source": [
    "from datasets import load_dataset\n",
    "import pandas as pd\n",
    "import numpy as np\n",
    "from collections import Counter\n",
    "import matplotlib.pyplot as plt"
   ]
  },
  {
   "cell_type": "code",
   "execution_count": 2,
   "metadata": {},
   "outputs": [
    {
     "name": "stderr",
     "output_type": "stream",
     "text": [
      "No config specified, defaulting to: hebrew_sentiment/token\n",
      "Found cached dataset hebrew_sentiment (C:/Users/Administrator/.cache/huggingface/datasets/hebrew_sentiment/token/1.0.0/2ea2ba30503e863156a06ad2d4011a75b45556d1d557c2247f6194828849f5f9)\n"
     ]
    },
    {
     "data": {
      "application/vnd.jupyter.widget-view+json": {
       "model_id": "22aaf95c23734a6893765feb8ae67b16",
       "version_major": 2,
       "version_minor": 0
      },
      "text/plain": [
       "  0%|          | 0/2 [00:00<?, ?it/s]"
      ]
     },
     "metadata": {},
     "output_type": "display_data"
    }
   ],
   "source": [
    "dataset = load_dataset(\"hebrew_sentiment\")"
   ]
  },
  {
   "cell_type": "code",
   "execution_count": 3,
   "metadata": {},
   "outputs": [],
   "source": [
    "# Convert to DataFrame\n",
    "train_df = pd.DataFrame(dataset['train'])\n",
    "test_df = pd.DataFrame(dataset['test'])"
   ]
  },
  {
   "cell_type": "code",
   "execution_count": 4,
   "metadata": {},
   "outputs": [
    {
     "name": "stdout",
     "output_type": "stream",
     "text": [
      "                                                text  label\n",
      "0  ממש כואב ..... אני בוכה עם המשפחה שלא תדעו עוד...      0\n",
      "1                                       איש יקר שלנו      0\n",
      "2                              כל הכבוד והמון בהצלחה      0\n",
      "3   תל חי , רובי . בכל העצב הזה היית קרן אור של ת...      0\n",
      "4                 נקי כפיים ובר לבב בהצלחה לך ולנו .      0\n",
      "text     0\n",
      "label    0\n",
      "dtype: int64\n",
      "text     0\n",
      "label    0\n",
      "dtype: int64\n",
      "             label\n",
      "count  10244.00000\n",
      "mean       0.36392\n",
      "std        0.53823\n",
      "min        0.00000\n",
      "25%        0.00000\n",
      "50%        0.00000\n",
      "75%        1.00000\n",
      "max        2.00000\n"
     ]
    }
   ],
   "source": [
    "# Display the first few rows\n",
    "print(train_df.head())\n",
    "\n",
    "# Check for missing values\n",
    "print(train_df.isnull().sum())\n",
    "print(test_df.isnull().sum())\n",
    "\n",
    "# Basic statistics\n",
    "print(train_df.describe())\n"
   ]
  },
  {
   "cell_type": "code",
   "execution_count": 10,
   "metadata": {},
   "outputs": [
    {
     "name": "stdout",
     "output_type": "stream",
     "text": [
      "(12804, 3)\n",
      "0    8512\n",
      "1    3922\n",
      "2     370\n",
      "Name: label, dtype: int64\n"
     ]
    }
   ],
   "source": [
    "# concat dfs\n",
    "df = pd.concat([train_df, test_df])\n",
    "print(df.shape)\n",
    "print(df.label.value_counts())"
   ]
  },
  {
   "cell_type": "code",
   "execution_count": 5,
   "metadata": {},
   "outputs": [],
   "source": [
    "train_df.to_csv('../data/train.csv', index=False)\n",
    "test_df.to_csv('../data/test.csv', index=False)"
   ]
  },
  {
   "cell_type": "code",
   "execution_count": 6,
   "metadata": {},
   "outputs": [],
   "source": [
    "# Function to calculate text length in words\n",
    "def text_length(text):\n",
    "    return len(text.split())\n",
    "\n",
    "# Add a new column for text length\n",
    "train_df['text_length'] = train_df['text'].apply(text_length)\n",
    "\n",
    "# 1. Class distribution\n",
    "class_distribution = train_df['label'].value_counts(normalize=True) * 100\n",
    "\n",
    "# 2. Class meanings\n",
    "class_meanings = {\n",
    "    0: \"Positive sentiment\",\n",
    "    1: \"Negative sentiment\",\n",
    "    2: \"Off-topic\"\n",
    "}\n",
    "\n",
    "# 3. Print one example of each class\n",
    "example_texts = train_df.groupby('label').first()['text']\n",
    "\n",
    "# 4. Average and std tweet length\n",
    "average_tweet_length = train_df['text_length'].mean()\n",
    "std_tweet_length = train_df['text_length'].std()\n",
    "\n",
    "# 5. Mean and std of text length per class\n",
    "mean_std_per_class = train_df.groupby('label')['text_length'].agg(['mean', 'std'])\n",
    "\n",
    "# 6. Most common words in the text\n",
    "all_words = ' '.join(train_df['text'])\n",
    "word_freq = Counter(all_words.split())\n",
    "most_common_words = word_freq.most_common(10)\n",
    "\n",
    "# 7. Most common words per class\n",
    "most_common_words_per_class = {}\n",
    "for label, group in train_df.groupby('label'):\n",
    "    all_words_in_class = ' '.join(group['text'])\n",
    "    word_freq_in_class = Counter(all_words_in_class.split())\n",
    "    most_common_words_per_class[label] = word_freq_in_class.most_common(10)\n",
    "\n",
    "\n"
   ]
  },
  {
   "cell_type": "code",
   "execution_count": 7,
   "metadata": {},
   "outputs": [
    {
     "data": {
      "text/plain": [
       "0    66.516986\n",
       "1    30.573995\n",
       "2     2.909020\n",
       "Name: label, dtype: float64"
      ]
     },
     "execution_count": 7,
     "metadata": {},
     "output_type": "execute_result"
    }
   ],
   "source": []
  },
  {
   "cell_type": "code",
   "execution_count": 20,
   "metadata": {},
   "outputs": [
    {
     "data": {
      "image/png": "[encoded data removed]",
      "text/plain": [
       "<Figure size 640x480 with 1 Axes>"
      ]
     },
     "metadata": {},
     "output_type": "display_data"
    }
   ],
   "source": [
    "# Distribution\n",
    "class_distribution.plot(kind='bar')\n",
    "plt.title('Class Distribution')\n",
    "plt.xlabel('Class')\n",
    "plt.ylabel('Percentage')\n",
    "plt.show()\n"
   ]
  },
  {
   "cell_type": "code",
   "execution_count": 21,
   "metadata": {},
   "outputs": [
    {
     "name": "stdout",
     "output_type": "stream",
     "text": [
      "Examples by Class:\n",
      "Class 0 (Positive sentiment): ממש כואב ..... אני בוכה עם המשפחה שלא תדעו עוד צער\n",
      "Class 1 (Negative sentiment): אדוני הנשיא סליחה על הבוטות תפסיק לזיין את השכל . עד היום לא התבטאת ולו במילה על המצב במדינה . לא הבעת את אהדתך לצבא . לא אמרת מילה טובה ומעודדת לתושבי הדרום . אם חשוב לך תשעה באב אז תחזור להסטוריה ותעלם מעינינו .\n",
      "Class 2 (Off-topic): חייבים לעשות סוג של חרם כשכתבים שונאי ישראל עולים לשידור צריכים להעביר לערוץ אחר ואז תראו מה יעשה כוחו של הרייטינג ( בהקשר לדבריה של רינה מצליח )\n"
     ]
    }
   ],
   "source": [
    "print(\"Examples by Class:\")\n",
    "for label, text in example_texts.items():\n",
    "    print(f\"Class {label} ({class_meanings[label]}): {text}\")\n"
   ]
  },
  {
   "cell_type": "code",
   "execution_count": 22,
   "metadata": {},
   "outputs": [
    {
     "data": {
      "text/plain": [
       "(22.991019133151113, 43.31335117601367)"
      ]
     },
     "execution_count": 22,
     "metadata": {},
     "output_type": "execute_result"
    }
   ],
   "source": [
    "average_tweet_length, std_tweet_length"
   ]
  },
  {
   "cell_type": "code",
   "execution_count": 23,
   "metadata": {},
   "outputs": [
    {
     "data": {
      "image/png": "[encoded data removed]",
      "text/plain": [
       "<Figure size 1000x600 with 1 Axes>"
      ]
     },
     "metadata": {},
     "output_type": "display_data"
    }
   ],
   "source": [
    "mean_std_per_class.plot(kind='bar', yerr='std', capsize=4, figsize=(10, 6), color='lightgreen')\n",
    "plt.title('Mean and Std of Text Length Per Class')\n",
    "plt.xlabel('Class')\n",
    "plt.ylabel('Number of Words')\n",
    "plt.xticks(ticks=range(len(class_meanings)), labels=[class_meanings[label] for label in mean_std_per_class.index], rotation=0)\n",
    "plt.show()"
   ]
  },
  {
   "cell_type": "code",
   "execution_count": 33,
   "metadata": {},
   "outputs": [
    {
     "name": "stdout",
     "output_type": "stream",
     "text": [
      "Most common words:\n",
      "Class 0 (Positive sentiment): most common:\n",
      ".: 4629\n",
      ",: 2921\n",
      "הנשיא: 1652\n",
      "את: 1292\n",
      "!: 1273\n",
      "כל: 1025\n",
      "של: 1001\n",
      "בהצלחה: 985\n",
      "ישראל: 985\n",
      "נשיא: 967\n",
      "\n",
      "Class 1 (Negative sentiment): most common:\n",
      ",: 3606\n",
      ".: 3597\n",
      "לא: 2187\n",
      "את: 2159\n",
      "\": 1735\n",
      "של: 1234\n",
      "על: 1222\n",
      "עם: 1089\n",
      "זה: 1055\n",
      "ישראל: 947\n",
      "\n",
      "Class 2 (Off-topic): most common:\n",
      ",: 488\n",
      ".: 323\n",
      "את: 189\n",
      "\": 187\n",
      "של: 153\n",
      "לא: 121\n",
      "!: 102\n",
      "על: 91\n",
      "עם: 83\n",
      "כל: 77\n",
      "\n"
     ]
    }
   ],
   "source": [
    "# print the most common world per class:\n",
    "print(\"Most common words:\")\n",
    "for label, words in most_common_words_per_class.items():\n",
    "    print(f\"Class {label} ({class_meanings[label]}): most common:\")\n",
    "    for word, freq in words:\n",
    "        print(f\"{word}: {freq}\")\n",
    "\n",
    "    print()"
   ]
  },
  {
   "cell_type": "code",
   "execution_count": null,
   "metadata": {},
   "outputs": [],
   "source": []
  }
 ],
 "metadata": {
  "kernelspec": {
   "display_name": "myenv",
   "language": "python",
   "name": "python3"
  },
  "language_info": {
   "codemirror_mode": {
    "name": "ipython",
    "version": 3
   },
   "file_extension": ".py",
   "mimetype": "text/x-python",
   "name": "python",
   "nbconvert_exporter": "python",
   "pygments_lexer": "ipython3",
   "version": "3.10.13"
  }
 },
 "nbformat": 4,
 "nbformat_minor": 2
}
